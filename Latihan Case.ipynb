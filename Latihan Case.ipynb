{
  "cells": [
    {
      "attachments": {},
      "cell_type": "markdown",
      "metadata": {
        "id": "5rUnG3q8FlJO"
      },
      "source": [
        "<h1>Bonus Latihan (Sumber: PPT New Bimay)</h1>\n",
        "\n",
        "Dari 2 Sequence berikut:\n",
        "1. ATGCATGGTGCGCGA\n",
        "2. ATTTGTGCTCCTGGA\n",
        "\n",
        "Tentukan:\n",
        "1. Sequence yang memiliki GC content terbanyak\n",
        "2. Sequence yang memiliki melting temperature tertinggi\n",
        "3. Sequence yang memiliki berat molekul tertinggi\n",
        "\n",
        "Opsional: Visualisasikan ini ke dalam pychart\n",
        "\n",
        "Library yang digunakan:\n",
        "1. biopython\n",
        "2. matplotlib (atau library visualisasi python yang diinginkan)"
      ]
    }
  ],
  "metadata": {
    "colab": {
      "provenance": []
    },
    "kernelspec": {
      "display_name": "Python 3",
      "language": "python",
      "name": "python3"
    },
    "language_info": {
      "name": "python",
      "version": "3.11.2"
    },
    "vscode": {
      "interpreter": {
        "hash": "a2f306ae1cf6f67296c5426ae27b99d2901d70d280740f983c429574f7da56d5"
      }
    }
  },
  "nbformat": 4,
  "nbformat_minor": 0
}
