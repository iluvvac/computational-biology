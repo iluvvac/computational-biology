{
  "cells": [
    {
      "cell_type": "code",
      "execution_count": 3,
      "metadata": {
        "colab": {
          "base_uri": "https://localhost:8080/"
        },
        "id": "N5jGcNDWySCf",
        "outputId": "180d3822-5c5b-4229-9bbd-c69f222fdc14"
      },
      "outputs": [
        {
          "name": "stdout",
          "output_type": "stream",
          "text": [
            "Requirement already satisfied: BioPython in c:\\users\\sayme\\appdata\\local\\programs\\python\\python311\\lib\\site-packages (1.81)\n",
            "Requirement already satisfied: numpy in c:\\users\\sayme\\appdata\\local\\programs\\python\\python311\\lib\\site-packages (from BioPython) (1.24.2)\n",
            "Note: you may need to restart the kernel to use updated packages.\n"
          ]
        },
        {
          "name": "stderr",
          "output_type": "stream",
          "text": [
            "\n",
            "[notice] A new release of pip available: 22.3.1 -> 23.0.1\n",
            "[notice] To update, run: python.exe -m pip install --upgrade pip\n"
          ]
        }
      ],
      "source": [
        "# Prerequisites\n",
        "# TODO: install all required modules\n",
        "# tips: \n",
        "# 1. Used Imports\n",
        "# Bio.Seq\n",
        "# Bio.SeqUtils\n",
        "# 2. Forgot import? use CTRL + Space\n",
        "%pip install BioPython"
      ]
    },
    {
      "cell_type": "code",
      "execution_count": 10,
      "metadata": {
        "colab": {
          "base_uri": "https://localhost:8080/"
        },
        "id": "3ZI-dHc1ztjl",
        "outputId": "b265d4a8-151f-4596-83ed-576406e94dc5"
      },
      "outputs": [
        {
          "name": "stdout",
          "output_type": "stream",
          "text": [
            "CGCGATCGTAGC\n",
            "12\n"
          ]
        }
      ],
      "source": [
        "# TODO: Create Sequence (C, G, A, or T)\n",
        "from Bio.Seq import Seq \n",
        "\n",
        "seq1 = Seq(\"CGCGATCGTAGC\")\n",
        "print(seq1)\n",
        "print(len(seq1))"
      ]
    },
    {
      "cell_type": "code",
      "execution_count": 26,
      "metadata": {
        "colab": {
          "base_uri": "https://localhost:8080/"
        },
        "id": "qWcmmFY80UqS",
        "outputId": "737b5d2d-f125-42bf-9558-bbcf2c8b7ff7"
      },
      "outputs": [
        {
          "name": "stdout",
          "output_type": "stream",
          "text": [
            "66.66666666666667\n",
            "0.6666666666666666\n"
          ]
        }
      ],
      "source": [
        "# TODO #1: GC Content\n",
        "# GC lebih banyak = DNA lebih stabil = titi leleh lebih tinggi\n",
        "# Mencari kandungan GC di dalam 1 Sequence DNA \n",
        "\n",
        "# Cara 1 : Cara Nguli (bikin function sendiri)\n",
        "def get_gc(input):\n",
        "    # Hitung jumlah semua komponen G + komponen C dibagi dengan total jumlah komponen keseluruhan\n",
        "    output = 100 * (input.count(\"G\") + input.count(\"C\")) / len(input)\n",
        "    return output\n",
        "\n",
        "# diluar function\n",
        "seq1_gc = get_gc(seq1)\n",
        "print(seq1_gc)\n",
        "\n",
        "\n",
        "from Bio.SeqUtils import gc_fraction\n",
        "\n",
        "seq1_gc2 = gc_fraction(seq1)\n",
        "print(seq1_gc2)\n",
        "\n",
        "\n"
      ]
    },
    {
      "cell_type": "code",
      "execution_count": 33,
      "metadata": {
        "colab": {
          "base_uri": "https://localhost:8080/"
        },
        "id": "TuWtFdGI6Erq",
        "outputId": "f528eaf6-8830-4adb-fd9b-a59a7c4dc6e2"
      },
      "outputs": [
        {
          "name": "stdout",
          "output_type": "stream",
          "text": [
            "33.333333333333336\n"
          ]
        }
      ],
      "source": [
        "# TODO #2: AT Content\n",
        "# AT lebih banyak = DNA lebih tidak stabil = titik leleh lebih rendah\n",
        "\n",
        "def at_content(input):\n",
        "    at = [temp for temp in input if temp in \"AT\"]\n",
        "    # print(at)\n",
        "    output = 100 * len(at) / len(input)\n",
        "    return output\n",
        "\n",
        "seq1_at = at_content(seq1)\n",
        "print(seq1_at)\n"
      ]
    },
    {
      "cell_type": "code",
      "execution_count": 44,
      "metadata": {
        "colab": {
          "base_uri": "https://localhost:8080/"
        },
        "id": "4cwCJLy98WNr",
        "outputId": "b91e11bd-cccd-487a-d5b7-82c9178e623f"
      },
      "outputs": [
        {
          "name": "stdout",
          "output_type": "stream",
          "text": [
            "40.0\n",
            "37.236235405311234\n",
            "39.80290666838681\n"
          ]
        }
      ],
      "source": [
        "# TODO: Melting Point\n",
        "\n",
        "from Bio.SeqUtils import MeltingTemp as mt\n",
        "\n",
        "# 1. Tm_Wallace (Rule of Thumb)\n",
        "# explain the manual formula\n",
        "# rumus : 2 * AT + 4 * GC\n",
        "seq1_wallace = mt.Tm_Wallace(seq1)\n",
        "print(seq1_wallace)\n",
        "\n",
        "# 2. Tm_GC\n",
        "seq1_tm_gc = mt.Tm_GC(seq1)\n",
        "print(seq1_tm_gc)\n",
        "\n",
        "# 3. Tm_NN\n",
        "seq1_tm_nn = mt.Tm_NN(seq1)\n",
        "print(seq1_tm_nn)\n",
        "\n",
        "# Output yang diberikan dalam format derajat celcius"
      ]
    },
    {
      "cell_type": "code",
      "execution_count": 49,
      "metadata": {
        "colab": {
          "base_uri": "https://localhost:8080/"
        },
        "id": "D5A8BSIbBWmf",
        "outputId": "5ecedc17-5a10-4cab-92fe-d07418633a31"
      },
      "outputs": [
        {
          "name": "stdout",
          "output_type": "stream",
          "text": [
            "3726.3655\n"
          ]
        }
      ],
      "source": [
        "# TODO: Molecular Weight\n",
        "from Bio.SeqUtils import molecular_weight\n",
        "wt = molecular_weight(seq1)\n",
        "print(wt)"
      ]
    },
    {
      "attachments": {},
      "cell_type": "markdown",
      "metadata": {},
      "source": []
    }
  ],
  "metadata": {
    "colab": {
      "provenance": []
    },
    "kernelspec": {
      "display_name": "Python 3",
      "language": "python",
      "name": "python3"
    },
    "language_info": {
      "codemirror_mode": {
        "name": "ipython",
        "version": 3
      },
      "file_extension": ".py",
      "mimetype": "text/x-python",
      "name": "python",
      "nbconvert_exporter": "python",
      "pygments_lexer": "ipython3",
      "version": "3.11.2"
    },
    "vscode": {
      "interpreter": {
        "hash": "a2f306ae1cf6f67296c5426ae27b99d2901d70d280740f983c429574f7da56d5"
      }
    }
  },
  "nbformat": 4,
  "nbformat_minor": 0
}
