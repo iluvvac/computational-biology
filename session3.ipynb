{
 "cells": [
  {
   "cell_type": "code",
   "execution_count": null,
   "metadata": {},
   "outputs": [],
   "source": [
    "pip install BioPython"
   ]
  },
  {
   "cell_type": "code",
   "execution_count": 10,
   "metadata": {},
   "outputs": [],
   "source": [
    "import Bio\n",
    "from Bio.Seq import Seq"
   ]
  },
  {
   "cell_type": "code",
   "execution_count": 27,
   "metadata": {},
   "outputs": [
    {
     "data": {
      "text/plain": [
       "Seq('CGATAGTTACGA')"
      ]
     },
     "execution_count": 27,
     "metadata": {},
     "output_type": "execute_result"
    }
   ],
   "source": [
    "# CREATE DNA Sequence\n",
    "DNA = Seq('CGATAGTTACGA')\n",
    "DNA\n",
    "# A - T\n",
    "# C - G"
   ]
  },
  {
   "cell_type": "code",
   "execution_count": 32,
   "metadata": {},
   "outputs": [
    {
     "data": {
      "text/plain": [
       "Seq('TCGTA')"
      ]
     },
     "execution_count": 32,
     "metadata": {},
     "output_type": "execute_result"
    }
   ],
   "source": [
    "# Complement\n",
    "DNA.complement()\n",
    "\n",
    "# Complement + slicing\n",
    "DNA.complement()[0:5]\n",
    "\n",
    "# Reverse Complement\n",
    "DNA.reverse_complement()\n",
    "\n",
    "# Reverse Complement + Slicing\n",
    "DNA.reverse_complement()[0:5]"
   ]
  },
  {
   "cell_type": "code",
   "execution_count": 37,
   "metadata": {},
   "outputs": [
    {
     "name": "stdout",
     "output_type": "stream",
     "text": [
      "TCGTAACTATCG\n",
      "TCGTAACTATCG\n"
     ]
    }
   ],
   "source": [
    "# Cara manual reverse\n",
    "# DNA.complement()[::-1]\n",
    "\n",
    "# METHOD\n",
    "DNA_reversed = DNA.reverse_complement()\n",
    "print(DNA_reversed)\n",
    "\n",
    "# MANUAL\n",
    "DNA_reversed_manual = DNA.complement()[::-1]\n",
    "print(DNA_reversed_manual)"
   ]
  },
  {
   "cell_type": "code",
   "execution_count": 48,
   "metadata": {},
   "outputs": [
    {
     "name": "stdout",
     "output_type": "stream",
     "text": [
      "DNA CGATAGTTACGA\n",
      "mRNA: CGAUAGUUACGA\n",
      "mRNA Reversed: AGCAUUGAUAGC\n"
     ]
    }
   ],
   "source": [
    "# Transcription\n",
    "mRNA = DNA.transcribe()\n",
    "print('DNA', DNA)\n",
    "print('mRNA:', mRNA)\n",
    "\n",
    "mRNA_reversed = DNA.transcribe()[::-1]\n",
    "print('mRNA Reversed:', mRNA_reversed)"
   ]
  },
  {
   "cell_type": "code",
   "execution_count": 59,
   "metadata": {},
   "outputs": [
    {
     "name": "stdout",
     "output_type": "stream",
     "text": [
      "mRNA: CGAUAGUUACGA\n",
      "DNA CGATAGTTACGA\n",
      "mRNA Back Trnascribe AGCATTGATAGC\n"
     ]
    }
   ],
   "source": [
    "# Back Transcribe\n",
    "print('mRNA:', mRNA)\n",
    "print('DNA', DNA)\n",
    "\n",
    "print('mRNA Back Trnascribe', mRNA.back_transcribe()[::-1])"
   ]
  },
  {
   "cell_type": "code",
   "execution_count": 73,
   "metadata": {},
   "outputs": [
    {
     "name": "stdout",
     "output_type": "stream",
     "text": [
      "Protein: R STOP BRADER LR\n"
     ]
    }
   ],
   "source": [
    "# Translation\n",
    "protein = mRNA.translate(stop_symbol=' STOP BRADER ')\n",
    "print('Protein:', protein)"
   ]
  },
  {
   "cell_type": "code",
   "execution_count": 90,
   "metadata": {},
   "outputs": [
    {
     "name": "stdout",
     "output_type": "stream",
     "text": [
      "DNA -> Protein: R Masbro LR\n",
      "DNA -> mRNA -> Protein R Masbro LR\n"
     ]
    }
   ],
   "source": [
    "# DNA -> Protein\n",
    "print('DNA -> Protein:', DNA.translate(stop_symbol=' Masbro '))\n",
    "\n",
    "# DNA -> mRNA -> Protein\n",
    "print('DNA -> mRNA -> Protein', DNA.transcribe().translate(stop_symbol=' Masbro '))"
   ]
  },
  {
   "cell_type": "code",
   "execution_count": 91,
   "metadata": {},
   "outputs": [
    {
     "name": "stdout",
     "output_type": "stream",
     "text": [
      "CGAUAGUUACGA\n",
      "Protein: ArgTerLeuArg\n"
     ]
    }
   ],
   "source": [
    "# From Seq 3\n",
    "from Bio.SeqUtils import seq3\n",
    "\n",
    "print(DNA.transcribe())\n",
    "seqLong = seq3(DNA.translate())\n",
    "print('Protein:',seqLong)"
   ]
  },
  {
   "cell_type": "code",
   "execution_count": 104,
   "metadata": {},
   "outputs": [
    {
     "name": "stdout",
     "output_type": "stream",
     "text": [
      "Protein Short: R*LR\n",
      "Protein Long Reversed: ArgLeuTerArg\n",
      "Protein Long Reversed: RL*R\n"
     ]
    }
   ],
   "source": [
    "from Bio.SeqUtils import seq1\n",
    "seqShort = seq1(seqLong)\n",
    "print('Protein Short:',seqShort)\n",
    "\n",
    "# Reverse\n",
    "seqLong_reversed = seq3(DNA.translate()[::-1])\n",
    "print('Protein Long Reversed:', seqLong_reversed)\n",
    "\n",
    "seqShort_reversed = seq1(seqLong)[::-1]\n",
    "print('Protein Long Reversed:', seqShort_reversed)"
   ]
  },
  {
   "cell_type": "code",
   "execution_count": 123,
   "metadata": {},
   "outputs": [
    {
     "name": "stdout",
     "output_type": "stream",
     "text": [
      "Table 1 Standard, SGC0\n",
      "\n",
      "  |  U      |  C      |  A      |  G      |\n",
      "--+---------+---------+---------+---------+--\n",
      "U | UUU F   | UCU S   | UAU Y   | UGU C   | U\n",
      "U | UUC F   | UCC S   | UAC Y   | UGC C   | C\n",
      "U | UUA L   | UCA S   | UAA Stop| UGA Stop| A\n",
      "U | UUG L(s)| UCG S   | UAG Stop| UGG W   | G\n",
      "--+---------+---------+---------+---------+--\n",
      "C | CUU L   | CCU P   | CAU H   | CGU R   | U\n",
      "C | CUC L   | CCC P   | CAC H   | CGC R   | C\n",
      "C | CUA L   | CCA P   | CAA Q   | CGA R   | A\n",
      "C | CUG L(s)| CCG P   | CAG Q   | CGG R   | G\n",
      "--+---------+---------+---------+---------+--\n",
      "A | AUU I   | ACU T   | AAU N   | AGU S   | U\n",
      "A | AUC I   | ACC T   | AAC N   | AGC S   | C\n",
      "A | AUA I   | ACA T   | AAA K   | AGA R   | A\n",
      "A | AUG M(s)| ACG T   | AAG K   | AGG R   | G\n",
      "--+---------+---------+---------+---------+--\n",
      "G | GUU V   | GCU A   | GAU D   | GGU G   | U\n",
      "G | GUC V   | GCC A   | GAC D   | GGC G   | C\n",
      "G | GUA V   | GCA A   | GAA E   | GGA G   | A\n",
      "G | GUG V   | GCG A   | GAG E   | GGG G   | G\n",
      "--+---------+---------+---------+---------+--\n"
     ]
    }
   ],
   "source": [
    "# Codon Table\n",
    "from Bio.Data import CodonTable as CT\n",
    "# dir(CT) # Buat ngecek method yang ada di codon table\n",
    "\n",
    "# View Codon Table DNA\n",
    "# print(CT.ambiguous_dna_by_name['Standard'])\n",
    "# print(CT.ambiguous_dna_by_id[1])\n",
    "\n",
    "# View Codong Table RNA\n",
    "# print(CT.ambiguous_rna_by_name['Standard'])\n",
    "print(CT.ambiguous_rna_by_id[1])"
   ]
  },
  {
   "cell_type": "code",
   "execution_count": null,
   "metadata": {},
   "outputs": [],
   "source": [
    "pip install py3Dmol"
   ]
  },
  {
   "cell_type": "code",
   "execution_count": 133,
   "metadata": {},
   "outputs": [
    {
     "data": {
      "application/3dmoljs_load.v0": "<div id=\"3dmolviewer_16789584488288608\"  style=\"position: relative; width: 640px; height: 480px\">\n        <p id=\"3dmolwarning_16789584488288608\" style=\"background-color:#ffcccc;color:black\">You appear to be running in JupyterLab (or JavaScript failed to load for some other reason).  You need to install the 3dmol extension: <br>\n        <tt>jupyter labextension install jupyterlab_3dmol</tt></p>\n        </div>\n<script>\n\nvar loadScriptAsync = function(uri){\n  return new Promise((resolve, reject) => {\n    //this is to ignore the existence of requirejs amd\n    var savedexports, savedmodule;\n    if (typeof exports !== 'undefined') savedexports = exports;\n    else exports = {}\n    if (typeof module !== 'undefined') savedmodule = module;\n    else module = {}\n\n    var tag = document.createElement('script');\n    tag.src = uri;\n    tag.async = true;\n    tag.onload = () => {\n        exports = savedexports;\n        module = savedmodule;\n        resolve();\n    };\n  var firstScriptTag = document.getElementsByTagName('script')[0];\n  firstScriptTag.parentNode.insertBefore(tag, firstScriptTag);\n});\n};\n\nif(typeof $3Dmolpromise === 'undefined') {\n$3Dmolpromise = null;\n  $3Dmolpromise = loadScriptAsync('https://cdnjs.cloudflare.com/ajax/libs/3Dmol/2.0.1/3Dmol-min.js');\n}\n\nvar viewer_16789584488288608 = null;\nvar warn = document.getElementById(\"3dmolwarning_16789584488288608\");\nif(warn) {\n    warn.parentNode.removeChild(warn);\n}\n$3Dmolpromise.then(function() {\nviewer_16789584488288608 = $3Dmol.createViewer(document.getElementById(\"3dmolviewer_16789584488288608\"),{backgroundColor:\"white\"});\n$3Dmol.download(\"pdb:6LU7\", viewer_16789584488288608, {}, function() {\nviewer_16789584488288608.zoomTo();\n\tviewer_16789584488288608.setStyle({\"cartoon\": {\"color\": \"spectrum\"}});\nviewer_16789584488288608.render();\n})\n});\n</script>",
      "text/html": [
       "<div id=\"3dmolviewer_16789584488288608\"  style=\"position: relative; width: 640px; height: 480px\">\n",
       "        <p id=\"3dmolwarning_16789584488288608\" style=\"background-color:#ffcccc;color:black\">You appear to be running in JupyterLab (or JavaScript failed to load for some other reason).  You need to install the 3dmol extension: <br>\n",
       "        <tt>jupyter labextension install jupyterlab_3dmol</tt></p>\n",
       "        </div>\n",
       "<script>\n",
       "\n",
       "var loadScriptAsync = function(uri){\n",
       "  return new Promise((resolve, reject) => {\n",
       "    //this is to ignore the existence of requirejs amd\n",
       "    var savedexports, savedmodule;\n",
       "    if (typeof exports !== 'undefined') savedexports = exports;\n",
       "    else exports = {}\n",
       "    if (typeof module !== 'undefined') savedmodule = module;\n",
       "    else module = {}\n",
       "\n",
       "    var tag = document.createElement('script');\n",
       "    tag.src = uri;\n",
       "    tag.async = true;\n",
       "    tag.onload = () => {\n",
       "        exports = savedexports;\n",
       "        module = savedmodule;\n",
       "        resolve();\n",
       "    };\n",
       "  var firstScriptTag = document.getElementsByTagName('script')[0];\n",
       "  firstScriptTag.parentNode.insertBefore(tag, firstScriptTag);\n",
       "});\n",
       "};\n",
       "\n",
       "if(typeof $3Dmolpromise === 'undefined') {\n",
       "$3Dmolpromise = null;\n",
       "  $3Dmolpromise = loadScriptAsync('https://cdnjs.cloudflare.com/ajax/libs/3Dmol/2.0.1/3Dmol-min.js');\n",
       "}\n",
       "\n",
       "var viewer_16789584488288608 = null;\n",
       "var warn = document.getElementById(\"3dmolwarning_16789584488288608\");\n",
       "if(warn) {\n",
       "    warn.parentNode.removeChild(warn);\n",
       "}\n",
       "$3Dmolpromise.then(function() {\n",
       "viewer_16789584488288608 = $3Dmol.createViewer(document.getElementById(\"3dmolviewer_16789584488288608\"),{backgroundColor:\"white\"});\n",
       "$3Dmol.download(\"pdb:6LU7\", viewer_16789584488288608, {}, function() {\n",
       "viewer_16789584488288608.zoomTo();\n",
       "\tviewer_16789584488288608.setStyle({\"cartoon\": {\"color\": \"spectrum\"}});\n",
       "viewer_16789584488288608.render();\n",
       "})\n",
       "});\n",
       "</script>"
      ]
     },
     "metadata": {},
     "output_type": "display_data"
    },
    {
     "data": {
      "text/plain": [
       "<py3Dmol.view at 0x2a0be769290>"
      ]
     },
     "execution_count": 133,
     "metadata": {},
     "output_type": "execute_result"
    }
   ],
   "source": [
    "# 3D Model\n",
    "import py3Dmol\n",
    "\n",
    "videModel = py3Dmol.view(query=\"pdb:6LU7\")\n",
    "videModel.setStyle({'cartoon':{'color':'spectrum'}})"
   ]
  }
 ],
 "metadata": {
  "kernelspec": {
   "display_name": "Python 3",
   "language": "python",
   "name": "python3"
  },
  "language_info": {
   "codemirror_mode": {
    "name": "ipython",
    "version": 3
   },
   "file_extension": ".py",
   "mimetype": "text/x-python",
   "name": "python",
   "nbconvert_exporter": "python",
   "pygments_lexer": "ipython3",
   "version": "3.11.2"
  },
  "orig_nbformat": 4
 },
 "nbformat": 4,
 "nbformat_minor": 2
}
