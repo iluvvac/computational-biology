{
 "cells": [
  {
   "cell_type": "code",
   "execution_count": null,
   "metadata": {},
   "outputs": [],
   "source": [
    "pip install biopython "
   ]
  },
  {
   "cell_type": "code",
   "execution_count": 25,
   "metadata": {},
   "outputs": [
    {
     "name": "stdout",
     "output_type": "stream",
     "text": [
      "CAGTCATACCT CGTAT\n"
     ]
    }
   ],
   "source": [
    "from Bio.Seq import Seq\n",
    "\n",
    "seq1 = Seq(\"CAGTCATACCT\")\n",
    "seq2 = Seq(\"CGTAT\")\n",
    "\n",
    "print(seq1+\" \"+seq2)"
   ]
  },
  {
   "cell_type": "code",
   "execution_count": 26,
   "metadata": {},
   "outputs": [
    {
     "name": "stdout",
     "output_type": "stream",
     "text": [
      "[Alignment(seqA='CAGTCATACCT', seqB='C-G---TA--T', score=5.0, start=0, end=11), Alignment(seqA='CAGTCATACCT', seqB='C-GT---A--T', score=5.0, start=0, end=11), Alignment(seqA='CAGTCATACCT', seqB='C-GT-A----T', score=5.0, start=0, end=11), Alignment(seqA='CAGTCATACCT', seqB='C-GT-AT----', score=5.0, start=0, end=11)]\n",
      "CAGTCATACCT\n",
      "| |   ||  |\n",
      "C-G---TA--T\n",
      "  Score=5\n",
      "\n",
      "CAGTCATACCT\n",
      "| ||   |  |\n",
      "C-GT---A--T\n",
      "  Score=5\n",
      "\n",
      "CAGTCATACCT\n",
      "| || |    |\n",
      "C-GT-A----T\n",
      "  Score=5\n",
      "\n",
      "CAGTCATACCT\n",
      "| || ||    \n",
      "C-GT-AT----\n",
      "  Score=5\n",
      "\n"
     ]
    }
   ],
   "source": [
    "# package pairwise2\n",
    "\n",
    "# A. Alignments\n",
    "from Bio import pairwise2\n",
    "from Bio.pairwise2 import format_alignment\n",
    "\n",
    "# 1. Global Alignment\n",
    "g_align = pairwise2.align.globalxx(seq1, seq2)\n",
    "print (g_align)\n",
    "\n",
    "for align in g_align:\n",
    "    print(format_alignment(*align))"
   ]
  },
  {
   "cell_type": "code",
   "execution_count": 28,
   "metadata": {},
   "outputs": [
    {
     "name": "stdout",
     "output_type": "stream",
     "text": [
      "[Alignment(seqA='CAGTCATACCT', seqB='C-G---TA--T', score=5.0, start=0, end=11), Alignment(seqA='CAGTCATACCT', seqB='C-GT---A--T', score=5.0, start=0, end=11), Alignment(seqA='CAGTCATACCT', seqB='C-GT-A----T', score=5.0, start=0, end=11), Alignment(seqA='CAGTCATACCT', seqB='C-GT-AT----', score=5.0, start=0, end=7)]\n",
      "CAGTCATACCT\n",
      "| |   ||  |\n",
      "C-G---TA--T\n",
      "  Score=5\n",
      "\n",
      "CAGTCATACCT\n",
      "| ||   |  |\n",
      "C-GT---A--T\n",
      "  Score=5\n",
      "\n",
      "CAGTCATACCT\n",
      "| || |    |\n",
      "C-GT-A----T\n",
      "  Score=5\n",
      "\n",
      "1 CAGTCAT\n",
      "  | || ||\n",
      "1 C-GT-AT\n",
      "  Score=5\n",
      "\n"
     ]
    }
   ],
   "source": [
    "# 2. Local Alignment\n",
    "l_align = pairwise2.align.localxx(seq1, seq2)\n",
    "print(l_align)\n",
    "\n",
    "for align in l_align:\n",
    "    print(format_alignment(*align))"
   ]
  },
  {
   "cell_type": "code",
   "execution_count": 48,
   "metadata": {},
   "outputs": [
    {
     "name": "stdout",
     "output_type": "stream",
     "text": [
      "Using Global Similarity = 45.45454545454545\n",
      "Using Local Similarity = 45.45454545454545\n"
     ]
    }
   ],
   "source": [
    "# B. Similarity (using alignment)\n",
    "\n",
    "# Using Global Alignment\n",
    "g_score = pairwise2.align.globalxx(seq1, seq2, one_alignment_only=True, score_only=True)\n",
    "g_similarity = g_score / len(seq1) * 100\n",
    "print(\"Using Global Similarity =\", g_similarity)\n",
    "\n",
    "# Using local alignment\n",
    "l_score = pairwise2.align.localxx(seq1, seq2, one_alignment_only=True, score_only=True)\n",
    "l_similarity = l_score / len(seq1) * 100\n",
    "print(\"Using Local Similarity =\", l_similarity)"
   ]
  },
  {
   "cell_type": "code",
   "execution_count": 71,
   "metadata": {},
   "outputs": [
    {
     "name": "stdout",
     "output_type": "stream",
     "text": [
      "[Alignment(seqA='CAGTCATAC--CT-', seqB='CAG--ATA-AGCTG', score=13.8, start=0, end=14), Alignment(seqA='CAGTCATA--CCT-', seqB='CAG--ATAAGC-TG', score=13.8, start=0, end=14)]\n",
      "CAGTCATAC--CT-\n",
      "|||  |||   || \n",
      "CAG--ATA-AGCTG\n",
      "  Score=13.8\n",
      "\n",
      "CAGTCATA--CCT-\n",
      "|||  |||  | | \n",
      "CAG--ATAAGC-TG\n",
      "  Score=13.8\n",
      "\n"
     ]
    }
   ],
   "source": [
    "# Example Case :\n",
    "# Fidn out all the possible global alignments\n",
    "# with the maximum similarity score\n",
    "# Matching characters:2 points\n",
    "# Each mismatching character :-1 point\n",
    "# 0.5 points are deducted when opening a gap\n",
    "# 0.1 points are deducted when extending it\n",
    "\n",
    "seqX = Seq(\"CAGTCATACCT\")\n",
    "seqY = Seq(\"CAGATAAGCTG\")\n",
    "\n",
    "alignment = pairwise2.align.globalms(seqX, seqY, 2, -1, -0.5, -0.1)\n",
    "print(alignment)\n",
    "for align in alignment:\n",
    "    print(format_alignment(*align))"
   ]
  },
  {
   "cell_type": "code",
   "execution_count": 84,
   "metadata": {},
   "outputs": [],
   "source": [
    "# C. Distance\n",
    "\n",
    "\n",
    "# 1. Hamming Distance\n",
    "def hammingDistance(seqX, seqY):\n",
    "    data = [ (x, y) for x, y, in zip(seqX, seqY) if x != y]\n",
    "    # print(data)\n",
    "    return len(data)"
   ]
  },
  {
   "cell_type": "code",
   "execution_count": 85,
   "metadata": {},
   "outputs": [
    {
     "name": "stdout",
     "output_type": "stream",
     "text": [
      "Seq X =  CAGTCATACCT\n",
      "Seq Y =  CAGATAAGCTG\n"
     ]
    },
    {
     "data": {
      "text/plain": [
       "6"
      ]
     },
     "execution_count": 85,
     "metadata": {},
     "output_type": "execute_result"
    }
   ],
   "source": [
    "print(\"Seq X = \", seqX)\n",
    "print(\"Seq Y = \", seqY)\n",
    "hammingDistance(seqX, seqY)"
   ]
  },
  {
   "cell_type": "code",
   "execution_count": 95,
   "metadata": {},
   "outputs": [
    {
     "name": "stdout",
     "output_type": "stream",
     "text": [
      "Seq X =  CAGTCATACCT\n",
      "Seq Y =  CAGATAAGCTG\n",
      "5\n"
     ]
    }
   ],
   "source": [
    "# 2. Levenshtein Distant\n",
    "\n",
    "# !pip install python-Levenshtein\n",
    "\n",
    "from Levenshtein import distance\n",
    "\n",
    "print(\"Seq X = \", seqX)\n",
    "print(\"Seq Y = \", seqY)\n",
    "print(distance(seqX, seqY))"
   ]
  },
  {
   "cell_type": "code",
   "execution_count": 115,
   "metadata": {},
   "outputs": [
    {
     "name": "stdout",
     "output_type": "stream",
     "text": [
      "[[0, 1, 1, 1, 1, 1, 1, 1, 0, 1, 1], [1, 0, 1, 0, 1, 0, 0, 1, 1, 1, 1], [1, 1, 0, 1, 1, 1, 1, 0, 1, 1, 0], [1, 1, 1, 1, 0, 1, 1, 1, 1, 0, 1], [0, 1, 1, 1, 1, 1, 1, 1, 0, 1, 1], [1, 0, 1, 0, 1, 0, 0, 1, 1, 1, 1], [1, 1, 1, 1, 0, 1, 1, 1, 1, 0, 1], [1, 0, 1, 0, 1, 0, 0, 1, 1, 1, 1], [0, 1, 1, 1, 1, 1, 1, 1, 0, 1, 1], [0, 1, 1, 1, 1, 1, 1, 1, 0, 1, 1], [1, 1, 1, 1, 0, 1, 1, 1, 1, 0, 1]]\n"
     ]
    }
   ],
   "source": [
    "# # Dot Plot\n",
    "\n",
    "# # !pip install numpy\n",
    "# # !pip install matplotlib\n",
    "\n",
    "import numpy\n",
    "import matplotlib.pyplot as plt\n",
    "\n",
    "def check(x, y):\n",
    "    return 0 if x == y else 1 # cara cepat\n",
    "    # if x == y:\n",
    "    #     return 0\n",
    "    # else:\n",
    "    #     return 1\n",
    "\n",
    "def makeMatrix(seq1, seq2):\n",
    "    len_1 = len(seq1)\n",
    "    len_2 = len(seq2)\n",
    "    return [[check(seq1[i], seq2[j]) for j in range(len_2)] for i in range(len_1)]\n"
   ]
  },
  {
   "cell_type": "code",
   "execution_count": 133,
   "metadata": {},
   "outputs": [
    {
     "data": {
      "image/png": "[encoded data removed]",
      "text/plain": [
       "<Figure size 640x480 with 1 Axes>"
      ]
     },
     "metadata": {},
     "output_type": "display_data"
    }
   ],
   "source": [
    "# GUI (Lebih mirip visualisasi)\n",
    "\n",
    "res = makeMatrix(seqX, seqY)\n",
    "\n",
    "dotplot = plt.imshow(numpy.array(res))\n",
    "xAxis = plt.xticks(numpy.arange(len(list(seqY))), list(seqY))\n",
    "yAxis = plt.yticks(numpy.arange(len(list(seqX))), list(seqX))\n",
    "\n",
    "plt.show()\n",
    "\n"
   ]
  }
 ],
 "metadata": {
  "kernelspec": {
   "display_name": "Python 3",
   "language": "python",
   "name": "python3"
  },
  "language_info": {
   "codemirror_mode": {
    "name": "ipython",
    "version": 3
   },
   "file_extension": ".py",
   "mimetype": "text/x-python",
   "name": "python",
   "nbconvert_exporter": "python",
   "pygments_lexer": "ipython3",
   "version": "3.11.2"
  },
  "orig_nbformat": 4
 },
 "nbformat": 4,
 "nbformat_minor": 2
}
