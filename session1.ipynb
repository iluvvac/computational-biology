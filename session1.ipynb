{
 "cells": [
  {
   "cell_type": "code",
   "execution_count": null,
   "metadata": {},
   "outputs": [],
   "source": [
    "pip install BioPython"
   ]
  },
  {
   "cell_type": "code",
   "execution_count": 5,
   "metadata": {},
   "outputs": [],
   "source": [
    "import Bio"
   ]
  },
  {
   "cell_type": "code",
   "execution_count": 7,
   "metadata": {},
   "outputs": [],
   "source": [
    "# DNA and RNA have their own data type\n",
    "from Bio.Seq import Seq"
   ]
  },
  {
   "cell_type": "code",
   "execution_count": null,
   "metadata": {},
   "outputs": [],
   "source": [
    "dir(Seq)\n",
    "# buat ngecek type data di Seq"
   ]
  },
  {
   "cell_type": "code",
   "execution_count": 14,
   "metadata": {},
   "outputs": [
    {
     "name": "stdout",
     "output_type": "stream",
     "text": [
      "CGACTGGCGTCTCTG\n",
      "CGACUGGCGUCUCUG\n",
      "MIS\n"
     ]
    }
   ],
   "source": [
    "# Decalre variable\n",
    "DNA = Seq(\"CGACTGGCGTCTCTG\")\n",
    "print (DNA)\n",
    "\n",
    "RNA = Seq(\"CGACUGGCGUCUCUG\")\n",
    "print (RNA)\n",
    "\n",
    "Protein = Seq(\"MIS\")\n",
    "print (Protein)"
   ]
  },
  {
   "cell_type": "code",
   "execution_count": 15,
   "metadata": {},
   "outputs": [
    {
     "data": {
      "text/plain": [
       "15"
      ]
     },
     "execution_count": 15,
     "metadata": {},
     "output_type": "execute_result"
    }
   ],
   "source": [
    "# Menghitung panjang sequence\n",
    "len(DNA)"
   ]
  },
  {
   "cell_type": "code",
   "execution_count": 25,
   "metadata": {},
   "outputs": [
    {
     "name": "stdout",
     "output_type": "stream",
     "text": [
      "CGACTGGCGTCTCTG\n",
      "CGACTGGCGTCTCTG\n",
      "CGACTG\n",
      "TCTCTG\n",
      "GTCTCTGCGGTCAGC\n",
      "CATGGCCG\n",
      "GCGTCT\n"
     ]
    }
   ],
   "source": [
    "# Slicing in Python\n",
    "# nama variable[awal:akhir:lompatan]\n",
    "\n",
    "print(DNA)\n",
    "# awal - akhir\n",
    "print(DNA[:])\n",
    "# 0-5\n",
    "print(DNA[:6])\n",
    "# 9-akhir\n",
    "print(DNA[9:])\n",
    "# reverse\n",
    "print(DNA[::-1])\n",
    "# lompatan = 2, mirip kaya aritmatika\n",
    "print(DNA[::2])\n",
    "# 6-11\n",
    "print(DNA[6:12])\n"
   ]
  },
  {
   "cell_type": "code",
   "execution_count": 27,
   "metadata": {},
   "outputs": [
    {
     "name": "stdout",
     "output_type": "stream",
     "text": [
      "CGACTGGCGTCTCTGCGACUGGCGUCUCUG\n",
      "CGACTGGCGTCT\n"
     ]
    }
   ],
   "source": [
    "# Join Seq\n",
    "print(DNA+RNA)\n",
    "DNA1 = DNA[:6]\n",
    "DNA2 = DNA[6:12]\n",
    "print (DNA1 + DNA2)"
   ]
  },
  {
   "cell_type": "code",
   "execution_count": 31,
   "metadata": {},
   "outputs": [
    {
     "name": "stdout",
     "output_type": "stream",
     "text": [
      "CGACTGGCGTCTCTG\n",
      "4\n",
      "2\n"
     ]
    }
   ],
   "source": [
    "# Count\n",
    "print(DNA)\n",
    "print(DNA.count(\"T\"))\n",
    "print(DNA.count(\"CTG\"))"
   ]
  },
  {
   "cell_type": "code",
   "execution_count": 50,
   "metadata": {},
   "outputs": [
    {
     "name": "stdout",
     "output_type": "stream",
     "text": [
      "CGACTGGCGTCTCTG\n",
      "Using Find Method\n",
      "1\n",
      "3\n",
      "14\n",
      "12\n",
      "Using Index Method\n",
      "1\n",
      "14\n",
      "Perbedaan Find dan Index ketika tidak menemukan yang dicari\n",
      "-1\n"
     ]
    }
   ],
   "source": [
    "# Find\n",
    "print(DNA)\n",
    "print(\"Using Find Method\")\n",
    "print(DNA.find(\"G\"))\n",
    "print(DNA.find(\"CTG\"))\n",
    "# Reverse find\n",
    "print(DNA.rfind(\"G\"))\n",
    "print(DNA.rfind(\"CTG\"))\n",
    "# Method index\n",
    "print(\"Using Index Method\")\n",
    "print(DNA.index(\"G\"))\n",
    "print(DNA.rindex(\"G\"))\n",
    "\n",
    "print(\"Perbedaan Find dan Index ketika tidak menemukan yang dicari\")\n",
    "print(DNA.find(\"U\")) #ketika ga nemu return -1\n",
    "# print(DNA.index(\"U\")) #ketika ga nemu return error"
   ]
  },
  {
   "cell_type": "code",
   "execution_count": 54,
   "metadata": {},
   "outputs": [
    {
     "name": "stdout",
     "output_type": "stream",
     "text": [
      "CGACTGGCGTCTCTG\n",
      "CGACTG\n"
     ]
    }
   ],
   "source": [
    "# Main Seq dan Sub Seq\n",
    "mainSec = DNA\n",
    "print(mainSec)\n",
    "subSeq = DNA[:6]\n",
    "print(subSeq)"
   ]
  },
  {
   "cell_type": "code",
   "execution_count": 57,
   "metadata": {},
   "outputs": [
    {
     "name": "stdout",
     "output_type": "stream",
     "text": [
      "CGACTGGCGTCTCTG\n"
     ]
    },
    {
     "data": {
      "text/plain": [
       "['CTG', 3, 12]"
      ]
     },
     "execution_count": 57,
     "metadata": {},
     "output_type": "execute_result"
    }
   ],
   "source": [
    "# Search\n",
    "from Bio.SeqUtils import nt_search\n",
    "print(mainSec)\n",
    "nt_search(str(mainSec), \"CTG\")"
   ]
  },
  {
   "cell_type": "code",
   "execution_count": 76,
   "metadata": {},
   "outputs": [],
   "source": [
    "# import matplotlib\n",
    "import matplotlib.pyplot as plt\n"
   ]
  },
  {
   "cell_type": "code",
   "execution_count": 66,
   "metadata": {},
   "outputs": [],
   "source": [
    "# import function coutnter\n",
    "from collections import Counter"
   ]
  },
  {
   "cell_type": "code",
   "execution_count": 69,
   "metadata": {},
   "outputs": [
    {
     "name": "stdout",
     "output_type": "stream",
     "text": [
      "CGACTGGCGTCTCTG\n",
      "dict_keys(['C', 'G', 'A', 'T'])\n",
      "dict_values([5, 5, 1, 4])\n"
     ]
    }
   ],
   "source": [
    "# count nucleotide freq\n",
    "print(mainSec)\n",
    "dnaFreq = Counter(mainSec)\n",
    "print(dnaFreq.keys())\n",
    "print(dnaFreq.values())"
   ]
  },
  {
   "cell_type": "code",
   "execution_count": 75,
   "metadata": {},
   "outputs": [
    {
     "data": {
      "text/plain": [
       "<BarContainer object of 4 artists>"
      ]
     },
     "execution_count": 75,
     "metadata": {},
     "output_type": "execute_result"
    },
    {
     "data": {
      "image/png": "[encoded data removed]",
      "text/plain": [
       "<Figure size 640x480 with 1 Axes>"
      ]
     },
     "metadata": {},
     "output_type": "display_data"
    }
   ],
   "source": [
    "# Bar chart\n",
    "plt.bar(dnaFreq.keys(),dnaFreq.values())"
   ]
  },
  {
   "cell_type": "code",
   "execution_count": 77,
   "metadata": {},
   "outputs": [],
   "source": [
    "# Note : CTRL + Space \n",
    "# For Autocomplete\n"
   ]
  }
 ],
 "metadata": {
  "kernelspec": {
   "display_name": "Python 3",
   "language": "python",
   "name": "python3"
  },
  "language_info": {
   "codemirror_mode": {
    "name": "ipython",
    "version": 3
   },
   "file_extension": ".py",
   "mimetype": "text/x-python",
   "name": "python",
   "nbconvert_exporter": "python",
   "pygments_lexer": "ipython3",
   "version": "3.11.2"
  },
  "orig_nbformat": 4,
  "vscode": {
   "interpreter": {
    "hash": "a2f306ae1cf6f67296c5426ae27b99d2901d70d280740f983c429574f7da56d5"
   }
  }
 },
 "nbformat": 4,
 "nbformat_minor": 2
}
